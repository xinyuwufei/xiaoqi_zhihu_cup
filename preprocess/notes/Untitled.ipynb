{
 "cells": [
  {
   "cell_type": "code",
   "execution_count": 1,
   "metadata": {
    "collapsed": true
   },
   "outputs": [],
   "source": [
    "import os\n",
    "import networkx as nx\n",
    "import matplotlib.pyplot as plt\n",
    "import tool\n",
    "import numpy as np\n",
    "import pandas as pd\n",
    "import seaborn as sns\n",
    "from statistics import mean\n",
    "from itertools import combinations\n",
    "%matplotlib inline\n",
    "import mpld3\n",
    "mpld3.enable_notebook()"
   ]
  },
  {
   "cell_type": "code",
   "execution_count": 2,
   "metadata": {
    "collapsed": true
   },
   "outputs": [],
   "source": [
    "def findsubsets(S, m):\n",
    "    return set(combinations(S, m))\n",
    "\n",
    "def jaccard_index(a,b):\n",
    "    den=len(a|b)\n",
    "    if den ==0:\n",
    "        return 0.0\n",
    "    else:\n",
    "        return float(len(a&b) / den)\n",
    "\n",
    "def siblings(G,a):\n",
    "    sibs=set()\n",
    "    for x in G.successors(a):\n",
    "        for bb in G.predecessors(x):\n",
    "            if bb !=a:\n",
    "                sibs.add(bb)\n",
    "    return sibs\n",
    "\n",
    "def is_siblings(G,a,b):\n",
    "    sibs=siblings(G,a)\n",
    "    if b in sibs:\n",
    "        return True\n",
    "    else:\n",
    "        return False\n",
    "\n",
    "def min_max_mean_std_hist(data,title,x_describe,y_describe,color_id):\n",
    "    plt.figure(figsize=(12, 8))\n",
    "    color = sns.color_palette()\n",
    "    cnt_srs = pd.Series(data).value_counts()\n",
    "    min=np.min(np.array(data))\n",
    "    max=np.max(np.array(data))\n",
    "    mean=np.mean(np.array(data))\n",
    "    std=np.std(np.array(data))\n",
    "    statx =\"x: min: %.4f max: %.4f mean: %.4f std: %.4f\\n\" % (min, max, mean, std)\n",
    "    min=np.min(np.array(cnt_srs.values))\n",
    "    max=np.max(np.array(cnt_srs.values))\n",
    "    mean=np.mean(np.array(cnt_srs.values))\n",
    "    std=np.std(np.array(cnt_srs.values))\n",
    "    staty=\"y: min: %.4f max: %.4f mean: %.4f std: %.4f\" %(min,max,mean,std)\n",
    "    plt.title(title)\n",
    "    print(statx+staty)\n",
    "    sns.barplot(cnt_srs.index, cnt_srs.values, color=color[color_id])\n",
    "    plt.ylabel(y_describe, fontsize=12)\n",
    "    plt.xlabel(x_describe, fontsize=12)\n",
    "    plt.xticks(rotation='vertical')\n",
    "    plt.show()\n",
    "    \n",
    "def min_max_mean_std_hist_float(data,title,x_describe,y_describe,bin,color_id):\n",
    "    plt.figure(figsize=(12, 8))\n",
    "    counts, bins, patches=plt.hist(data,bins=bin,color=color_id)\n",
    "    bin_centers = 0.5 * np.diff(bins) + bins[:-1]\n",
    "    color = sns.color_palette()\n",
    "    cnt_srs = pd.Series(data).value_counts()\n",
    "    min=np.min(np.array(data))\n",
    "    max=np.max(np.array(data))\n",
    "    mean=np.mean(np.array(data))\n",
    "    std=np.std(np.array(data))\n",
    "    statx ='x: min: %.4f max: %.4f mean: %.4f std: %.4f\\n' % (min, max, mean, std)\n",
    "#     min=np.min(np.array(cnt_srs.values))\n",
    "#     max=np.max(np.array(cnt_srs.values))\n",
    "#     mean=np.mean(np.array(cnt_srs.values))\n",
    "#     std=np.std(np.array(cnt_srs.values))\n",
    "    plt.title(title)\n",
    "    print(statx)\n",
    "    plt.ylabel(y_describe, fontsize=12)\n",
    "    plt.xlabel(x_describe, fontsize=12)\n",
    "    plt.xticks(rotation='vertical')\n",
    "\n",
    "    for count, x,b in zip(counts, bin_centers,bins):\n",
    "        # Label the raw counts\n",
    "        plt.annotate(str(b), xy=(b, 0), xycoords=('data', 'axes fraction'),\n",
    "                     xytext=(0, -35), textcoords='offset points', va='top',\n",
    "                     ha='center')\n",
    "        plt.annotate(str(count), xy=(b, 0), xycoords=('data', 'axes fraction'),\n",
    "            xytext=(0, -45), textcoords='offset points', va='top', ha='center')\n",
    "\n",
    "        # Label the percentages\n",
    "        percent = '%0.0f%%' % (100 * float(count) / counts.sum())\n",
    "        plt.annotate(percent, xy=(b, 0), xycoords=('data', 'axes fraction'),\n",
    "            xytext=(0, -55), textcoords='offset points', va='top', ha='center')\n",
    "\n",
    "\n",
    "    # Give ourselves some more room at the bottom of the plot\n",
    "    plt.tight_layout(pad=4)\n",
    "\n",
    "    plt.show()"
   ]
  },
  {
   "cell_type": "code",
   "execution_count": 4,
   "metadata": {},
   "outputs": [
    {
     "name": "stdout",
     "output_type": "stream",
     "text": [
      "number of topic vertices: 1999\n",
      "number of terminal vertices: 1117\n",
      "number of source vertices: 64\n",
      "number of isolate vertices: 51\n"
     ]
    }
   ],
   "source": [
    "TG=nx.DiGraph()\n",
    "\n",
    "edges=tool.load_csv('../summary/uv_graph_no_incest_topological_sorted.csv')\n",
    "int_edges=[]\n",
    "for e in edges:\n",
    "    if e[0]=='root':\n",
    "        int_edges.append([e[0],int(e[1])])\n",
    "    else:\n",
    "        int_edges.append([int(e[0]),int(e[1])])\n",
    "TG.add_edges_from(int_edges)\n",
    "TG.remove_node('root')\n",
    "\n",
    "terminal_vertices=[x for x in TG.nodes_iter() if TG.out_degree(x)==0 and TG.in_degree(x)>0]\n",
    "source_vertices=[x for x in TG.nodes_iter() if TG.in_degree(x)==0 and TG.out_degree(x)>0]\n",
    "isolate_vertices=[x for x in TG.nodes_iter() if TG.in_degree(x)==0 and TG.out_degree(x)==0]\n",
    "\n",
    "print('number of topic vertices:',len(TG))\n",
    "print('number of terminal vertices:',len(terminal_vertices))\n",
    "print('number of source vertices:',len(source_vertices))\n",
    "print('number of isolate vertices:',len(isolate_vertices))"
   ]
  },
  {
   "cell_type": "code",
   "execution_count": 5,
   "metadata": {
    "collapsed": true
   },
   "outputs": [],
   "source": [
    "par_chd=[(TG.in_degree(x),TG.out_degree(x),len(siblings(TG,x))) for x in TG.nodes_iter()]"
   ]
  },
  {
   "cell_type": "code",
   "execution_count": 6,
   "metadata": {},
   "outputs": [
    {
     "name": "stdout",
     "output_type": "stream",
     "text": [
      "x: min: 0.0000 max: 5.0000 mean: 1.2186 std: 0.5966\n",
      "y: min: 1.0000 max: 1392.0000 mean: 333.1667 std: 496.8683\n"
     ]
    },
    {
     "data": {
      "image/png": "[encoded data removed]",
      "text/html": [
       "\n",
       "\n",
       "<style>\n",
       "\n",
       "</style>\n",
       "\n",
       "<div id=\"fig_el85743417906487065264057\"></div>\n",
       "<script>\n",
       "function mpld3_load_lib(url, callback){\n",
       "  var s = document.createElement('script');\n",
       "  s.src = url;\n",
       "  s.async = true;\n",
       "  s.onreadystatechange = s.onload = callback;\n",
       "  s.onerror = function(){console.warn(\"failed to load library \" + url);};\n",
       "  document.getElementsByTagName(\"head\")[0].appendChild(s);\n",
       "}\n",
       "\n",
       "if(typeof(mpld3) !== \"undefined\" && mpld3._mpld3IsLoaded){\n",
       "   // already loaded: just create the figure\n",
       "   !function(mpld3){\n",
       "       \n",
       "       mpld3.draw_figure(\"fig_el85743417906487065264057\", {\"height\": 576.0, \"axes\": [{\"paths\": [{\"edgewidth\": 0.3, \"zorder\": 1, \"data\": \"data07\", \"coordinates\": \"data\", \"edgecolor\": \"none\", \"xindex\": 0, \"yindex\": 1, \"facecolor\": \"#5874A3\", \"pathcodes\": [\"M\", \"L\", \"L\", \"L\", \"Z\"], \"dasharray\": \"none\", \"alpha\": 1, \"id\": \"el8574425433776\"}, {\"edgewidth\": 0.3, \"zorder\": 1, \"data\": \"data08\", \"coordinates\": \"data\", \"edgecolor\": \"none\", \"xindex\": 0, \"yindex\": 1, \"facecolor\": \"#5874A3\", \"pathcodes\": [\"M\", \"L\", \"L\", \"L\", \"Z\"], \"dasharray\": \"none\", \"alpha\": 1, \"id\": \"el8574425434616\"}, {\"edgewidth\": 0.3, \"zorder\": 1, \"data\": \"data09\", \"coordinates\": \"data\", \"edgecolor\": \"none\", \"xindex\": 0, \"yindex\": 1, \"facecolor\": \"#5874A3\", \"pathcodes\": [\"M\", \"L\", \"L\", \"L\", \"Z\"], \"dasharray\": \"none\", \"alpha\": 1, \"id\": \"el8574425697936\"}, {\"edgewidth\": 0.3, \"zorder\": 1, \"data\": \"data10\", \"coordinates\": \"data\", \"edgecolor\": \"none\", \"xindex\": 0, \"yindex\": 1, \"facecolor\": \"#5874A3\", \"pathcodes\": [\"M\", \"L\", \"L\", \"L\", \"Z\"], \"dasharray\": \"none\", \"alpha\": 1, \"id\": \"el8574425698216\"}, {\"edgewidth\": 0.3, \"zorder\": 1, \"data\": \"data11\", \"coordinates\": \"data\", \"edgecolor\": \"none\", \"xindex\": 0, \"yindex\": 1, \"facecolor\": \"#5874A3\", \"pathcodes\": [\"M\", \"L\", \"L\", \"L\", \"Z\"], \"dasharray\": \"none\", \"alpha\": 1, \"id\": \"el8574425808696\"}, {\"edgewidth\": 0.3, \"zorder\": 1, \"data\": \"data12\", \"coordinates\": \"data\", \"edgecolor\": \"none\", \"xindex\": 0, \"yindex\": 1, \"facecolor\": \"#5874A3\", \"pathcodes\": [\"M\", \"L\", \"L\", \"L\", \"Z\"], \"dasharray\": \"none\", \"alpha\": 1, \"id\": \"el8574425836024\"}], \"texts\": [{\"zorder\": 3, \"coordinates\": \"axes\", \"v_baseline\": \"hanging\", \"rotation\": -0.0, \"fontsize\": 12.0, \"h_anchor\": \"middle\", \"alpha\": 1, \"text\": \"# of parent\", \"position\": [0.49999999999999994, -0.03822893671817512], \"id\": \"el8574429292992\", \"color\": \"#262626\"}, {\"zorder\": 3, \"coordinates\": \"axes\", \"v_baseline\": \"auto\", \"rotation\": -90.0, \"fontsize\": 12.0, \"h_anchor\": \"middle\", \"alpha\": 1, \"text\": \"# of vertices\", \"position\": [-0.049656511350059745, 0.49999999999999994], \"id\": \"el8574425436744\", \"color\": \"#262626\"}, {\"zorder\": 3, \"coordinates\": \"axes\", \"v_baseline\": \"auto\", \"rotation\": -0.0, \"fontsize\": 12.0, \"h_anchor\": \"middle\", \"alpha\": 1, \"text\": \"# of parent distribution\", \"position\": [0.49999999999999994, 1.0137969094922736], \"id\": \"el8574425573096\", \"color\": \"#262626\"}], \"axesbg\": \"#EAEAF2\", \"xdomain\": [-0.5, 5.5], \"zoomable\": true, \"axes\": [{\"tickvalues\": [0, 1, 2, 3, 4, 5], \"nticks\": 6, \"visible\": true, \"scale\": \"linear\", \"fontsize\": 10.0, \"position\": \"bottom\", \"tickformat\": [0, 1, 2, 3, 4, 5], \"grid\": {\"gridOn\": false}}, {\"tickvalues\": null, \"nticks\": 9, \"visible\": true, \"scale\": \"linear\", \"fontsize\": 10.0, \"position\": \"left\", \"tickformat\": null, \"grid\": {\"dasharray\": \"none\", \"alpha\": 1.0, \"color\": \"#FFFFFF\", \"gridOn\": true}}], \"ylim\": [0.0, 1461.6], \"bbox\": [0.125, 0.125, 0.775, 0.755], \"markers\": [], \"xlim\": [-0.5, 5.5], \"ydomain\": [0.0, 1461.6], \"images\": [], \"sharex\": [], \"collections\": [], \"axesbgalpha\": null, \"lines\": [{\"drawstyle\": \"default\", \"yindex\": 1, \"xindex\": 0, \"data\": \"data01\", \"coordinates\": \"data\", \"linewidth\": 3.15, \"dasharray\": \"none\", \"alpha\": 1, \"zorder\": 2, \"id\": \"el8574425454704\", \"color\": \"#424242\"}, {\"drawstyle\": \"default\", \"yindex\": 1, \"xindex\": 0, \"data\": \"data02\", \"coordinates\": \"data\", \"linewidth\": 3.15, \"dasharray\": \"none\", \"alpha\": 1, \"zorder\": 2, \"id\": \"el8574425837928\", \"color\": \"#424242\"}, {\"drawstyle\": \"default\", \"yindex\": 1, \"xindex\": 0, \"data\": \"data03\", \"coordinates\": \"data\", \"linewidth\": 3.15, \"dasharray\": \"none\", \"alpha\": 1, \"zorder\": 2, \"id\": \"el8574425861608\", \"color\": \"#424242\"}, {\"drawstyle\": \"default\", \"yindex\": 1, \"xindex\": 0, \"data\": \"data04\", \"coordinates\": \"data\", \"linewidth\": 3.15, \"dasharray\": \"none\", \"alpha\": 1, \"zorder\": 2, \"id\": \"el8574425900664\", \"color\": \"#424242\"}, {\"drawstyle\": \"default\", \"yindex\": 1, \"xindex\": 0, \"data\": \"data05\", \"coordinates\": \"data\", \"linewidth\": 3.15, \"dasharray\": \"none\", \"alpha\": 1, \"zorder\": 2, \"id\": \"el8574425902792\", \"color\": \"#424242\"}, {\"drawstyle\": \"default\", \"yindex\": 1, \"xindex\": 0, \"data\": \"data06\", \"coordinates\": \"data\", \"linewidth\": 3.15, \"dasharray\": \"none\", \"alpha\": 1, \"zorder\": 2, \"id\": \"el8574425929560\", \"color\": \"#424242\"}], \"id\": \"el8574429158832\", \"yscale\": \"linear\", \"sharey\": [], \"xscale\": \"linear\"}], \"data\": {\"data07\": [[-0.4, 0.0], [0.4, 0.0], [0.4, 115.0], [-0.4, 115.0]], \"data03\": [[2.0, NaN], [2.0, NaN]], \"data06\": [[5.0, NaN], [5.0, NaN]], \"data09\": [[1.6, 0.0], [2.4000000000000004, 0.0], [2.4000000000000004, 441.0], [1.6, 441.0]], \"data12\": [[4.6, 0.0], [5.3999999999999995, 0.0], [5.3999999999999995, 1.0], [4.6, 1.0]], \"data11\": [[3.6, 0.0], [4.4, 0.0], [4.4, 7.0], [3.6, 7.0]], \"data05\": [[4.0, NaN], [4.0, NaN]], \"data08\": [[0.6, 0.0], [1.4, 0.0], [1.4, 1392.0], [0.6, 1392.0]], \"data02\": [[1.0, NaN], [1.0, NaN]], \"data01\": [[0.0, NaN], [0.0, NaN]], \"data10\": [[2.6, 0.0], [3.4000000000000004, 0.0], [3.4000000000000004, 43.0], [2.6, 43.0]], \"data04\": [[3.0, NaN], [3.0, NaN]]}, \"width\": 864.0, \"plugins\": [{\"type\": \"reset\"}, {\"button\": true, \"type\": \"zoom\", \"enabled\": false}, {\"button\": true, \"type\": \"boxzoom\", \"enabled\": false}], \"id\": \"el8574341790648\"});\n",
       "   }(mpld3);\n",
       "}else if(typeof define === \"function\" && define.amd){\n",
       "   // require.js is available: use it to load d3/mpld3\n",
       "   require.config({paths: {d3: \"https://mpld3.github.io/js/d3.v3.min\"}});\n",
       "   require([\"d3\"], function(d3){\n",
       "      window.d3 = d3;\n",
       "      mpld3_load_lib(\"https://mpld3.github.io/js/mpld3.v0.3.js\", function(){\n",
       "         \n",
       "         mpld3.draw_figure(\"fig_el85743417906487065264057\", {\"height\": 576.0, \"axes\": [{\"paths\": [{\"edgewidth\": 0.3, \"zorder\": 1, \"data\": \"data07\", \"coordinates\": \"data\", \"edgecolor\": \"none\", \"xindex\": 0, \"yindex\": 1, \"facecolor\": \"#5874A3\", \"pathcodes\": [\"M\", \"L\", \"L\", \"L\", \"Z\"], \"dasharray\": \"none\", \"alpha\": 1, \"id\": \"el8574425433776\"}, {\"edgewidth\": 0.3, \"zorder\": 1, \"data\": \"data08\", \"coordinates\": \"data\", \"edgecolor\": \"none\", \"xindex\": 0, \"yindex\": 1, \"facecolor\": \"#5874A3\", \"pathcodes\": [\"M\", \"L\", \"L\", \"L\", \"Z\"], \"dasharray\": \"none\", \"alpha\": 1, \"id\": \"el8574425434616\"}, {\"edgewidth\": 0.3, \"zorder\": 1, \"data\": \"data09\", \"coordinates\": \"data\", \"edgecolor\": \"none\", \"xindex\": 0, \"yindex\": 1, \"facecolor\": \"#5874A3\", \"pathcodes\": [\"M\", \"L\", \"L\", \"L\", \"Z\"], \"dasharray\": \"none\", \"alpha\": 1, \"id\": \"el8574425697936\"}, {\"edgewidth\": 0.3, \"zorder\": 1, \"data\": \"data10\", \"coordinates\": \"data\", \"edgecolor\": \"none\", \"xindex\": 0, \"yindex\": 1, \"facecolor\": \"#5874A3\", \"pathcodes\": [\"M\", \"L\", \"L\", \"L\", \"Z\"], \"dasharray\": \"none\", \"alpha\": 1, \"id\": \"el8574425698216\"}, {\"edgewidth\": 0.3, \"zorder\": 1, \"data\": \"data11\", \"coordinates\": \"data\", \"edgecolor\": \"none\", \"xindex\": 0, \"yindex\": 1, \"facecolor\": \"#5874A3\", \"pathcodes\": [\"M\", \"L\", \"L\", \"L\", \"Z\"], \"dasharray\": \"none\", \"alpha\": 1, \"id\": \"el8574425808696\"}, {\"edgewidth\": 0.3, \"zorder\": 1, \"data\": \"data12\", \"coordinates\": \"data\", \"edgecolor\": \"none\", \"xindex\": 0, \"yindex\": 1, \"facecolor\": \"#5874A3\", \"pathcodes\": [\"M\", \"L\", \"L\", \"L\", \"Z\"], \"dasharray\": \"none\", \"alpha\": 1, \"id\": \"el8574425836024\"}], \"texts\": [{\"zorder\": 3, \"coordinates\": \"axes\", \"v_baseline\": \"hanging\", \"rotation\": -0.0, \"fontsize\": 12.0, \"h_anchor\": \"middle\", \"alpha\": 1, \"text\": \"# of parent\", \"position\": [0.49999999999999994, -0.03822893671817512], \"id\": \"el8574429292992\", \"color\": \"#262626\"}, {\"zorder\": 3, \"coordinates\": \"axes\", \"v_baseline\": \"auto\", \"rotation\": -90.0, \"fontsize\": 12.0, \"h_anchor\": \"middle\", \"alpha\": 1, \"text\": \"# of vertices\", \"position\": [-0.049656511350059745, 0.49999999999999994], \"id\": \"el8574425436744\", \"color\": \"#262626\"}, {\"zorder\": 3, \"coordinates\": \"axes\", \"v_baseline\": \"auto\", \"rotation\": -0.0, \"fontsize\": 12.0, \"h_anchor\": \"middle\", \"alpha\": 1, \"text\": \"# of parent distribution\", \"position\": [0.49999999999999994, 1.0137969094922736], \"id\": \"el8574425573096\", \"color\": \"#262626\"}], \"axesbg\": \"#EAEAF2\", \"xdomain\": [-0.5, 5.5], \"zoomable\": true, \"axes\": [{\"tickvalues\": [0, 1, 2, 3, 4, 5], \"nticks\": 6, \"visible\": true, \"scale\": \"linear\", \"fontsize\": 10.0, \"position\": \"bottom\", \"tickformat\": [0, 1, 2, 3, 4, 5], \"grid\": {\"gridOn\": false}}, {\"tickvalues\": null, \"nticks\": 9, \"visible\": true, \"scale\": \"linear\", \"fontsize\": 10.0, \"position\": \"left\", \"tickformat\": null, \"grid\": {\"dasharray\": \"none\", \"alpha\": 1.0, \"color\": \"#FFFFFF\", \"gridOn\": true}}], \"ylim\": [0.0, 1461.6], \"bbox\": [0.125, 0.125, 0.775, 0.755], \"markers\": [], \"xlim\": [-0.5, 5.5], \"ydomain\": [0.0, 1461.6], \"images\": [], \"sharex\": [], \"collections\": [], \"axesbgalpha\": null, \"lines\": [{\"drawstyle\": \"default\", \"yindex\": 1, \"xindex\": 0, \"data\": \"data01\", \"coordinates\": \"data\", \"linewidth\": 3.15, \"dasharray\": \"none\", \"alpha\": 1, \"zorder\": 2, \"id\": \"el8574425454704\", \"color\": \"#424242\"}, {\"drawstyle\": \"default\", \"yindex\": 1, \"xindex\": 0, \"data\": \"data02\", \"coordinates\": \"data\", \"linewidth\": 3.15, \"dasharray\": \"none\", \"alpha\": 1, \"zorder\": 2, \"id\": \"el8574425837928\", \"color\": \"#424242\"}, {\"drawstyle\": \"default\", \"yindex\": 1, \"xindex\": 0, \"data\": \"data03\", \"coordinates\": \"data\", \"linewidth\": 3.15, \"dasharray\": \"none\", \"alpha\": 1, \"zorder\": 2, \"id\": \"el8574425861608\", \"color\": \"#424242\"}, {\"drawstyle\": \"default\", \"yindex\": 1, \"xindex\": 0, \"data\": \"data04\", \"coordinates\": \"data\", \"linewidth\": 3.15, \"dasharray\": \"none\", \"alpha\": 1, \"zorder\": 2, \"id\": \"el8574425900664\", \"color\": \"#424242\"}, {\"drawstyle\": \"default\", \"yindex\": 1, \"xindex\": 0, \"data\": \"data05\", \"coordinates\": \"data\", \"linewidth\": 3.15, \"dasharray\": \"none\", \"alpha\": 1, \"zorder\": 2, \"id\": \"el8574425902792\", \"color\": \"#424242\"}, {\"drawstyle\": \"default\", \"yindex\": 1, \"xindex\": 0, \"data\": \"data06\", \"coordinates\": \"data\", \"linewidth\": 3.15, \"dasharray\": \"none\", \"alpha\": 1, \"zorder\": 2, \"id\": \"el8574425929560\", \"color\": \"#424242\"}], \"id\": \"el8574429158832\", \"yscale\": \"linear\", \"sharey\": [], \"xscale\": \"linear\"}], \"data\": {\"data07\": [[-0.4, 0.0], [0.4, 0.0], [0.4, 115.0], [-0.4, 115.0]], \"data03\": [[2.0, NaN], [2.0, NaN]], \"data06\": [[5.0, NaN], [5.0, NaN]], \"data09\": [[1.6, 0.0], [2.4000000000000004, 0.0], [2.4000000000000004, 441.0], [1.6, 441.0]], \"data12\": [[4.6, 0.0], [5.3999999999999995, 0.0], [5.3999999999999995, 1.0], [4.6, 1.0]], \"data11\": [[3.6, 0.0], [4.4, 0.0], [4.4, 7.0], [3.6, 7.0]], \"data05\": [[4.0, NaN], [4.0, NaN]], \"data08\": [[0.6, 0.0], [1.4, 0.0], [1.4, 1392.0], [0.6, 1392.0]], \"data02\": [[1.0, NaN], [1.0, NaN]], \"data01\": [[0.0, NaN], [0.0, NaN]], \"data10\": [[2.6, 0.0], [3.4000000000000004, 0.0], [3.4000000000000004, 43.0], [2.6, 43.0]], \"data04\": [[3.0, NaN], [3.0, NaN]]}, \"width\": 864.0, \"plugins\": [{\"type\": \"reset\"}, {\"button\": true, \"type\": \"zoom\", \"enabled\": false}, {\"button\": true, \"type\": \"boxzoom\", \"enabled\": false}], \"id\": \"el8574341790648\"});\n",
       "      });\n",
       "    });\n",
       "}else{\n",
       "    // require.js not available: dynamically load d3 & mpld3\n",
       "    mpld3_load_lib(\"https://mpld3.github.io/js/d3.v3.min.js\", function(){\n",
       "         mpld3_load_lib(\"https://mpld3.github.io/js/mpld3.v0.3.js\", function(){\n",
       "                 \n",
       "                 mpld3.draw_figure(\"fig_el85743417906487065264057\", {\"height\": 576.0, \"axes\": [{\"paths\": [{\"edgewidth\": 0.3, \"zorder\": 1, \"data\": \"data07\", \"coordinates\": \"data\", \"edgecolor\": \"none\", \"xindex\": 0, \"yindex\": 1, \"facecolor\": \"#5874A3\", \"pathcodes\": [\"M\", \"L\", \"L\", \"L\", \"Z\"], \"dasharray\": \"none\", \"alpha\": 1, \"id\": \"el8574425433776\"}, {\"edgewidth\": 0.3, \"zorder\": 1, \"data\": \"data08\", \"coordinates\": \"data\", \"edgecolor\": \"none\", \"xindex\": 0, \"yindex\": 1, \"facecolor\": \"#5874A3\", \"pathcodes\": [\"M\", \"L\", \"L\", \"L\", \"Z\"], \"dasharray\": \"none\", \"alpha\": 1, \"id\": \"el8574425434616\"}, {\"edgewidth\": 0.3, \"zorder\": 1, \"data\": \"data09\", \"coordinates\": \"data\", \"edgecolor\": \"none\", \"xindex\": 0, \"yindex\": 1, \"facecolor\": \"#5874A3\", \"pathcodes\": [\"M\", \"L\", \"L\", \"L\", \"Z\"], \"dasharray\": \"none\", \"alpha\": 1, \"id\": \"el8574425697936\"}, {\"edgewidth\": 0.3, \"zorder\": 1, \"data\": \"data10\", \"coordinates\": \"data\", \"edgecolor\": \"none\", \"xindex\": 0, \"yindex\": 1, \"facecolor\": \"#5874A3\", \"pathcodes\": [\"M\", \"L\", \"L\", \"L\", \"Z\"], \"dasharray\": \"none\", \"alpha\": 1, \"id\": \"el8574425698216\"}, {\"edgewidth\": 0.3, \"zorder\": 1, \"data\": \"data11\", \"coordinates\": \"data\", \"edgecolor\": \"none\", \"xindex\": 0, \"yindex\": 1, \"facecolor\": \"#5874A3\", \"pathcodes\": [\"M\", \"L\", \"L\", \"L\", \"Z\"], \"dasharray\": \"none\", \"alpha\": 1, \"id\": \"el8574425808696\"}, {\"edgewidth\": 0.3, \"zorder\": 1, \"data\": \"data12\", \"coordinates\": \"data\", \"edgecolor\": \"none\", \"xindex\": 0, \"yindex\": 1, \"facecolor\": \"#5874A3\", \"pathcodes\": [\"M\", \"L\", \"L\", \"L\", \"Z\"], \"dasharray\": \"none\", \"alpha\": 1, \"id\": \"el8574425836024\"}], \"texts\": [{\"zorder\": 3, \"coordinates\": \"axes\", \"v_baseline\": \"hanging\", \"rotation\": -0.0, \"fontsize\": 12.0, \"h_anchor\": \"middle\", \"alpha\": 1, \"text\": \"# of parent\", \"position\": [0.49999999999999994, -0.03822893671817512], \"id\": \"el8574429292992\", \"color\": \"#262626\"}, {\"zorder\": 3, \"coordinates\": \"axes\", \"v_baseline\": \"auto\", \"rotation\": -90.0, \"fontsize\": 12.0, \"h_anchor\": \"middle\", \"alpha\": 1, \"text\": \"# of vertices\", \"position\": [-0.049656511350059745, 0.49999999999999994], \"id\": \"el8574425436744\", \"color\": \"#262626\"}, {\"zorder\": 3, \"coordinates\": \"axes\", \"v_baseline\": \"auto\", \"rotation\": -0.0, \"fontsize\": 12.0, \"h_anchor\": \"middle\", \"alpha\": 1, \"text\": \"# of parent distribution\", \"position\": [0.49999999999999994, 1.0137969094922736], \"id\": \"el8574425573096\", \"color\": \"#262626\"}], \"axesbg\": \"#EAEAF2\", \"xdomain\": [-0.5, 5.5], \"zoomable\": true, \"axes\": [{\"tickvalues\": [0, 1, 2, 3, 4, 5], \"nticks\": 6, \"visible\": true, \"scale\": \"linear\", \"fontsize\": 10.0, \"position\": \"bottom\", \"tickformat\": [0, 1, 2, 3, 4, 5], \"grid\": {\"gridOn\": false}}, {\"tickvalues\": null, \"nticks\": 9, \"visible\": true, \"scale\": \"linear\", \"fontsize\": 10.0, \"position\": \"left\", \"tickformat\": null, \"grid\": {\"dasharray\": \"none\", \"alpha\": 1.0, \"color\": \"#FFFFFF\", \"gridOn\": true}}], \"ylim\": [0.0, 1461.6], \"bbox\": [0.125, 0.125, 0.775, 0.755], \"markers\": [], \"xlim\": [-0.5, 5.5], \"ydomain\": [0.0, 1461.6], \"images\": [], \"sharex\": [], \"collections\": [], \"axesbgalpha\": null, \"lines\": [{\"drawstyle\": \"default\", \"yindex\": 1, \"xindex\": 0, \"data\": \"data01\", \"coordinates\": \"data\", \"linewidth\": 3.15, \"dasharray\": \"none\", \"alpha\": 1, \"zorder\": 2, \"id\": \"el8574425454704\", \"color\": \"#424242\"}, {\"drawstyle\": \"default\", \"yindex\": 1, \"xindex\": 0, \"data\": \"data02\", \"coordinates\": \"data\", \"linewidth\": 3.15, \"dasharray\": \"none\", \"alpha\": 1, \"zorder\": 2, \"id\": \"el8574425837928\", \"color\": \"#424242\"}, {\"drawstyle\": \"default\", \"yindex\": 1, \"xindex\": 0, \"data\": \"data03\", \"coordinates\": \"data\", \"linewidth\": 3.15, \"dasharray\": \"none\", \"alpha\": 1, \"zorder\": 2, \"id\": \"el8574425861608\", \"color\": \"#424242\"}, {\"drawstyle\": \"default\", \"yindex\": 1, \"xindex\": 0, \"data\": \"data04\", \"coordinates\": \"data\", \"linewidth\": 3.15, \"dasharray\": \"none\", \"alpha\": 1, \"zorder\": 2, \"id\": \"el8574425900664\", \"color\": \"#424242\"}, {\"drawstyle\": \"default\", \"yindex\": 1, \"xindex\": 0, \"data\": \"data05\", \"coordinates\": \"data\", \"linewidth\": 3.15, \"dasharray\": \"none\", \"alpha\": 1, \"zorder\": 2, \"id\": \"el8574425902792\", \"color\": \"#424242\"}, {\"drawstyle\": \"default\", \"yindex\": 1, \"xindex\": 0, \"data\": \"data06\", \"coordinates\": \"data\", \"linewidth\": 3.15, \"dasharray\": \"none\", \"alpha\": 1, \"zorder\": 2, \"id\": \"el8574425929560\", \"color\": \"#424242\"}], \"id\": \"el8574429158832\", \"yscale\": \"linear\", \"sharey\": [], \"xscale\": \"linear\"}], \"data\": {\"data07\": [[-0.4, 0.0], [0.4, 0.0], [0.4, 115.0], [-0.4, 115.0]], \"data03\": [[2.0, NaN], [2.0, NaN]], \"data06\": [[5.0, NaN], [5.0, NaN]], \"data09\": [[1.6, 0.0], [2.4000000000000004, 0.0], [2.4000000000000004, 441.0], [1.6, 441.0]], \"data12\": [[4.6, 0.0], [5.3999999999999995, 0.0], [5.3999999999999995, 1.0], [4.6, 1.0]], \"data11\": [[3.6, 0.0], [4.4, 0.0], [4.4, 7.0], [3.6, 7.0]], \"data05\": [[4.0, NaN], [4.0, NaN]], \"data08\": [[0.6, 0.0], [1.4, 0.0], [1.4, 1392.0], [0.6, 1392.0]], \"data02\": [[1.0, NaN], [1.0, NaN]], \"data01\": [[0.0, NaN], [0.0, NaN]], \"data10\": [[2.6, 0.0], [3.4000000000000004, 0.0], [3.4000000000000004, 43.0], [2.6, 43.0]], \"data04\": [[3.0, NaN], [3.0, NaN]]}, \"width\": 864.0, \"plugins\": [{\"type\": \"reset\"}, {\"button\": true, \"type\": \"zoom\", \"enabled\": false}, {\"button\": true, \"type\": \"boxzoom\", \"enabled\": false}], \"id\": \"el8574341790648\"});\n",
       "            })\n",
       "         });\n",
       "}\n",
       "</script>"
      ],
      "text/plain": [
       "<matplotlib.figure.Figure at 0x102ca77b8>"
      ]
     },
     "metadata": {},
     "output_type": "display_data"
    }
   ],
   "source": [
    "min_max_mean_std_hist([par[0] for par in par_chd],'# of parent distribution','# of parent','# of vertices',0)"
   ]
  }
 ],
 "metadata": {
  "kernelspec": {
   "display_name": "Python 3",
   "language": "python",
   "name": "python3"
  },
  "language_info": {
   "codemirror_mode": {
    "name": "ipython",
    "version": 3
   },
   "file_extension": ".py",
   "mimetype": "text/x-python",
   "name": "python",
   "nbconvert_exporter": "python",
   "pygments_lexer": "ipython3",
   "version": "3.5.2"
  }
 },
 "nbformat": 4,
 "nbformat_minor": 2
}
