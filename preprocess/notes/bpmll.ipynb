{
 "cells": [
  {
   "cell_type": "code",
   "execution_count": 3,
   "metadata": {
    "collapsed": true
   },
   "outputs": [],
   "source": [
    "import tensorflow as tf\n",
    "import numpy as np"
   ]
  },
  {
   "cell_type": "code",
   "execution_count": 4,
   "metadata": {},
   "outputs": [],
   "source": [
    "def bpmll(predict,ground_truth):\n",
    "    num_pos_class=tf.reduce_sum(ground_truth,1)\n",
    "    num_neg_class=num_classes- num_pos_class\n",
    "\n",
    "    print(num_pos_class.eval())\n",
    "    print(num_neg_class.eval())\n",
    "    factor=1/(num_pos_class*num_neg_class)\n",
    "    \n",
    "    print(factor)\n",
    "    print(factor.eval())\n",
    "    print(predict)\n",
    "    print(predict.eval())\n",
    "    print(ground_truth)\n",
    "    print(ground_truth.eval())\n",
    "\n",
    "\n",
    "    predict_boardcast_subtrahend=tf.tile(predict,[1,1,num_classes])\n",
    "    # predict_boardcast_subtrahend=tf.concat([predict]*num_classes, 2)\n",
    "    predict_boardcast_minuend=tf.transpose(predict_boardcast_subtrahend,perm=[0,2,1])\n",
    "\n",
    "    print(predict_boardcast_subtrahend)\n",
    "    print(predict_boardcast_subtrahend.eval())\n",
    "    print(predict_boardcast_minuend)\n",
    "    print(predict_boardcast_minuend.eval())\n",
    "\n",
    "    ground_truth=tf.reshape(ground_truth,[batch_size,num_classes,1])\n",
    "    ground_truth_boardcast=tf.tile(ground_truth,[1,1,num_classes])\n",
    "    ground_truth_boardcast_nimei=tf.transpose(ground_truth_boardcast,perm=[0,2,1])\n",
    "    mask=ground_truth_boardcast*(1 - ground_truth_boardcast_nimei)\n",
    "    print('mask')\n",
    "    print(mask.eval())\n",
    "\n",
    "    loss=factor*tf.reduce_sum(tf.exp(-1*mask*(predict_boardcast_subtrahend-predict_boardcast_minuend)),[1,2])\n",
    "    print(loss,loss.eval())\n",
    "    print((tf.reduce_mean(loss)).eval())\n",
    "    return loss,tf.reduce_mean(loss)\n"
   ]
  },
  {
   "cell_type": "code",
   "execution_count": 5,
   "metadata": {},
   "outputs": [
    {
     "name": "stdout",
     "output_type": "stream",
     "text": [
      "[ 2.  2.]\n",
      "[ 1.  1.]\n",
      "Tensor(\"truediv_1:0\", shape=(2,), dtype=float64)\n",
      "[ 0.5  0.5]\n",
      "Tensor(\"Const_4:0\", shape=(2, 3, 1), dtype=float64)\n",
      "[[[ 0.20259959]\n",
      "  [ 0.32199841]\n",
      "  [ 0.89491252]]\n",
      "\n",
      " [[ 0.5709853 ]\n",
      "  [ 0.60485487]\n",
      "  [ 0.58093817]]]\n",
      "Tensor(\"Const_5:0\", shape=(2, 3), dtype=float64)\n",
      "[[ 0.  1.  1.]\n",
      " [ 1.  0.  1.]]\n",
      "Tensor(\"Tile_2:0\", shape=(2, 3, 3), dtype=float64)\n",
      "[[[ 0.20259959  0.20259959  0.20259959]\n",
      "  [ 0.32199841  0.32199841  0.32199841]\n",
      "  [ 0.89491252  0.89491252  0.89491252]]\n",
      "\n",
      " [[ 0.5709853   0.5709853   0.5709853 ]\n",
      "  [ 0.60485487  0.60485487  0.60485487]\n",
      "  [ 0.58093817  0.58093817  0.58093817]]]\n",
      "Tensor(\"transpose_2:0\", shape=(2, 3, 3), dtype=float64)\n",
      "[[[ 0.20259959  0.32199841  0.89491252]\n",
      "  [ 0.20259959  0.32199841  0.89491252]\n",
      "  [ 0.20259959  0.32199841  0.89491252]]\n",
      "\n",
      " [[ 0.5709853   0.60485487  0.58093817]\n",
      "  [ 0.5709853   0.60485487  0.58093817]\n",
      "  [ 0.5709853   0.60485487  0.58093817]]]\n",
      "mask\n",
      "[[[ 0.  0.  0.]\n",
      "  [ 1.  0.  0.]\n",
      "  [ 1.  0.  0.]]\n",
      "\n",
      " [[ 0.  1.  0.]\n",
      "  [ 0.  0.  0.]\n",
      "  [ 0.  1.  0.]]]\n",
      "Tensor(\"mul_9:0\", shape=(2,), dtype=float64) [ 4.19393555  4.52932733]\n",
      "4.36163144187\n"
     ]
    },
    {
     "data": {
      "text/plain": [
       "(<tf.Tensor 'mul_9:0' shape=(2,) dtype=float64>,\n",
       " <tf.Tensor 'Mean_3:0' shape=() dtype=float64>)"
      ]
     },
     "execution_count": 5,
     "metadata": {},
     "output_type": "execute_result"
    }
   ],
   "source": [
    "batch_size=2\n",
    "num_classes=3\n",
    "\n",
    "sess = tf.InteractiveSession()\n",
    "predict=np.random.uniform(size=(batch_size,num_classes,1))\n",
    "# predict_wtf=tf.random_uniform([batch_size,num_labels],minval=0,maxval=1,dtype=tf.float32)\n",
    "predict=tf.constant(predict)\n",
    "ground_truth = tf.constant([[0,1,1],[1,0,1]],dtype=tf.float64)\n",
    "bpmll(predict,ground_truth)"
   ]
  }
 ],
 "metadata": {
  "kernelspec": {
   "display_name": "Python 3",
   "language": "python",
   "name": "python3"
  },
  "language_info": {
   "codemirror_mode": {
    "name": "ipython",
    "version": 3
   },
   "file_extension": ".py",
   "mimetype": "text/x-python",
   "name": "python",
   "nbconvert_exporter": "python",
   "pygments_lexer": "ipython3",
   "version": "3.5.2"
  }
 },
 "nbformat": 4,
 "nbformat_minor": 2
}
